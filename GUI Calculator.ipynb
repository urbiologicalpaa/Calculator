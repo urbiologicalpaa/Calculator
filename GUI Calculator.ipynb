{
 "cells": [
  {
   "cell_type": "code",
   "execution_count": 1,
   "id": "c5d0d4ce",
   "metadata": {},
   "outputs": [
    {
     "ename": "SystemExit",
     "evalue": "0",
     "output_type": "error",
     "traceback": [
      "An exception has occurred, use %tb to see the full traceback.\n",
      "\u001b[1;31mSystemExit\u001b[0m\u001b[1;31m:\u001b[0m 0\n"
     ]
    },
    {
     "name": "stderr",
     "output_type": "stream",
     "text": [
      "C:\\Users\\HP\\anaconda3\\lib\\site-packages\\IPython\\core\\interactiveshell.py:3445: UserWarning: To exit: use 'exit', 'quit', or Ctrl-D.\n",
      "  warn(\"To exit: use 'exit', 'quit', or Ctrl-D.\", stacklevel=1)\n"
     ]
    }
   ],
   "source": [
    "import sys\n",
    "from PyQt5.QtCore import pyqtSlot, Qt\n",
    "from PyQt5.QtWidgets import QApplication, QMainWindow, QPushButton, QLabel\n",
    "\n",
    "class CalcProject(QMainWindow):\n",
    "    def __init__(self):\n",
    "        super(CalcProject, self).__init__()\n",
    "\n",
    "        self.setWindowTitle(\"Calculator\")\n",
    "        self.setGeometry(100, 100, 250, 250)\n",
    "\n",
    "        self.result_label = QLabel(self)\n",
    "        self.result_label.setGeometry(10, 10, 230, 30)\n",
    "        self.result_label.setAlignment(Qt.AlignRight)\n",
    "        self.result_label.setStyleSheet(\"border: 1px solid black;\")\n",
    "\n",
    "        self.result = \"\"\n",
    "        self.result_label.setText(self.result)\n",
    "\n",
    "        self.buttons = []\n",
    "        button_labels = ['7', '8', '9', '/',\n",
    "                         '4', '5', '6', '*',\n",
    "                         '1', '2', '3', '-',\n",
    "                         '0', 'C', '=', '+']\n",
    "\n",
    "        x, y = 10, 50\n",
    "        button_width, button_height = 50, 50\n",
    "\n",
    "        for label in button_labels:\n",
    "            button = QPushButton(self)\n",
    "            button.setGeometry(x, y, button_width, button_height)\n",
    "            button.setText(label)\n",
    "            button.clicked.connect(self.handle_button_click)\n",
    "            self.buttons.append(button)\n",
    "\n",
    "            x += button_width + 10\n",
    "            if x >= 230:\n",
    "                x = 10\n",
    "                y += button_height + 10\n",
    "\n",
    "    @pyqtSlot()\n",
    "    def handle_button_click(self):\n",
    "        button = self.sender()\n",
    "        label = button.text()\n",
    "\n",
    "        if label == \"=\":\n",
    "            try:\n",
    "                self.result = str(eval(self.result))\n",
    "            except Exception as e:\n",
    "                self.result = \"Error\"\n",
    "        elif label == \"C\":\n",
    "            self.result = \"\"\n",
    "        else:\n",
    "            self.result += label\n",
    "\n",
    "        self.result_label.setText(self.result)\n",
    "\n",
    "\n",
    "if __name__ == \"__main__\":\n",
    "    app = QApplication(sys.argv)\n",
    "    window = CalcProject()\n",
    "    window.show()\n",
    "    sys.exit(app.exec_())\n"
   ]
  },
  {
   "cell_type": "code",
   "execution_count": null,
   "id": "eb19aa0d",
   "metadata": {},
   "outputs": [],
   "source": []
  }
 ],
 "metadata": {
  "kernelspec": {
   "display_name": "Python 3",
   "language": "python",
   "name": "python3"
  },
  "language_info": {
   "codemirror_mode": {
    "name": "ipython",
    "version": 3
   },
   "file_extension": ".py",
   "mimetype": "text/x-python",
   "name": "python",
   "nbconvert_exporter": "python",
   "pygments_lexer": "ipython3",
   "version": "3.8.8"
  }
 },
 "nbformat": 4,
 "nbformat_minor": 5
}
